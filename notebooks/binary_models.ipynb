# binary_models.ipynb
#!/usr/bin/python3
import pandas as pd
from sklearn.model_selection import train_test_split
from sklearn.pipeline import Pipeline
from sklearn.preprocessing import StandardScaler
from sklearn.linear_model import LogisticRegression
from sklearn.tree import DecisionTreeClassifier
from sklearn.ensemble import RandomForestClassifier
from sklearn.neighbors import KNeighborsClassifier
from sklearn.svm import SVC
from sklearn.metrics import accuracy_score, precision_score, recall_score, f1_score

# 1. Load dataset
df = pd.read_csv("cleaned_data.csv")

# 2. Features & target
X = df.drop(columns=["Label"]) 
y = df["Label"]

# Convert to binary labels (Benign=0, Attack=1)
# for every element of y , checks with case-insensitivity
y = y.apply(lambda x: 0 if x == "BENIGN" else 1)

# 3. Train-test split
X_train, X_test, y_train, y_test = train_test_split(X, y, test_size=0.2, random_state=42, stratify=y)
# splitted data into (training & testing sets), testsize=20% training=80%
# here 20% of the rows taken for testing and others for training

# 4. Models to train
models = {
    "Logistic Regression": LogisticRegression(max_iter=1000),
    "Decision Tree": DecisionTreeClassifier(random_state=42),
    "Random Forest": RandomForestClassifier(random_state=42),
    "KNN": KNeighborsClassifier(),
    "SVM": SVC(kernel="rbf", probability=True, random_state=42)
}

# 5. Store results
results = []
# for key,val in dictionary.items() //gen representation
for model_name, model in models.items():
# pipeline simultaneously do preprocessing+model training 
# standard scaling converts all the dataitems in btn 0-1 .
    pipe = Pipeline([
        ("scaler", StandardScaler()),
        ("clf", model)
    ])
    #results from train_test split i.e x-train y-train
    # fits (features,target) from training sets into each model
    pipe.fit(X_train, y_train) 
    # took the features from test datasets and then predicted using the model
    y_pred = pipe.predict(X_test)
    
    acc = accuracy_score(y_test, y_pred)
    prec = precision_score(y_test, y_pred)
    rec = recall_score(y_test, y_pred)
    f1 = f1_score(y_test, y_pred)
    
    results.append({
        "Model": model_name,
        "Accuracy": acc,
        "Precision": prec,
        "Recall": rec,
        "F1-Score": f1
    })

# 6. Save results to CSV
results_df = pd.DataFrame(results)
results_df.to_csv("binary_classification_results.csv", index=False)

print(results_df)
