{
 "cells": [
  {
   "cell_type": "code",
   "execution_count": 23,
   "id": "ef51d947-b0dc-41b9-b983-875dcb5d0410",
   "metadata": {},
   "outputs": [
    {
     "name": "stdout",
     "output_type": "stream",
     "text": [
      "       DATASET ----- Thursday-WorkingHours-Morning_Session      \n",
      "\n",
      "\n",
      "The Shape Of The Data Frame is (Rows,Columns) --- (170346, 12)\n",
      "********************************************\n",
      "All the Columns ---- [' Destination Port', ' Flow Duration', ' Total Fwd Packets', ' Total Backward Packets', ' Fwd Packet Length Mean', ' Bwd Packet Length Mean', 'Flow Bytes/s', ' Packet Length Mean', 'Active Mean', 'Idle Mean', 'Label', 'Encoded Labels']\n",
      "********************************************\n",
      "        DESCRIPTION OF THE DATA FRAME      \n",
      "        Destination Port   Flow Duration   Total Fwd Packets  \\\n",
      "count      170346.000000    1.703460e+05       170346.000000   \n",
      "mean         7894.744849    1.246500e+07           15.126231   \n",
      "std         18233.401267    3.194011e+07         1123.173675   \n",
      "min             0.000000   -1.000000e+00            1.000000   \n",
      "25%            53.000000    1.920000e+02            1.000000   \n",
      "50%            80.000000    3.141400e+04            2.000000   \n",
      "75%           443.000000    8.195718e+05            4.000000   \n",
      "max         65529.000000    1.200000e+08       200755.000000   \n",
      "\n",
      "        Total Backward Packets   Fwd Packet Length Mean  \\\n",
      "count            170346.000000            170346.000000   \n",
      "mean                 18.024321                48.238913   \n",
      "std                1494.580590                94.951956   \n",
      "min                   0.000000                 0.000000   \n",
      "25%                   1.000000                 8.093928   \n",
      "50%                   2.000000                38.000000   \n",
      "75%                   2.000000                50.000000   \n",
      "max              270686.000000              4183.057143   \n",
      "\n",
      "        Bwd Packet Length Mean  Flow Bytes/s   Packet Length Mean  \\\n",
      "count            170346.000000  1.703460e+05        170346.000000   \n",
      "mean                160.141387           inf            99.908526   \n",
      "std                 274.427230           NaN           160.320512   \n",
      "min                   0.000000 -2.610000e+08             0.000000   \n",
      "25%                   6.000000  1.542784e+02             7.750000   \n",
      "50%                  79.000000  4.837992e+03            58.000000   \n",
      "75%                 153.000000  2.754237e+05            90.666667   \n",
      "max                3494.917198           inf          2155.523810   \n",
      "\n",
      "        Active Mean     Idle Mean  Encoded Labels  \n",
      "count  1.703460e+05  1.703460e+05   170346.000000  \n",
      "mean   7.434676e+04  3.690911e+06        0.016872  \n",
      "std    6.182406e+05  1.298900e+07        0.158056  \n",
      "min    0.000000e+00  0.000000e+00        0.000000  \n",
      "25%    0.000000e+00  0.000000e+00        0.000000  \n",
      "50%    0.000000e+00  0.000000e+00        0.000000  \n",
      "75%    0.000000e+00  0.000000e+00        0.000000  \n",
      "max    1.030000e+08  1.200000e+08        3.000000  \n",
      " \n",
      "\n",
      "*********************************************\n",
      "    LABEL DISTRIBUTION    \n",
      "Label\n",
      "BENIGN                          168166\n",
      "Web Attack --> Brute Force        1507\n",
      "Web Attack --> XSS                 652\n",
      "Web Attack --> Sql Injection        21\n",
      "Name: count, dtype: int64\n",
      " \n",
      "\n",
      "Label\n",
      "BENIGN                          98.720252\n",
      "Web Attack --> Brute Force       0.884670\n",
      "Web Attack --> XSS               0.382750\n",
      "Web Attack --> Sql Injection     0.012328\n",
      "Name: proportion, dtype: float64\n"
     ]
    },
    {
     "name": "stderr",
     "output_type": "stream",
     "text": [
      "/usr/local/lib/python3.13/dist-packages/pandas/core/nanops.py:1016: RuntimeWarning: invalid value encountered in subtract\n",
      "  sqr = _ensure_numeric((avg - values) ** 2)\n"
     ]
    }
   ],
   "source": [
    "# TASK 1 (Technocolabs Software Inc.)\n",
    "import pandas as ps\n",
    "dframe=ps.read_csv('Thursday-WorkingHours-Morning-WebAttacks.pcap_ISCX.csv')\n",
    "# here we read the csv file\n",
    "#to analyze the shape of our frame\n",
    "print(\"       DATASET ----- Thursday-WorkingHours-Morning_Session      \")\n",
    "print(\"\\n\")\n",
    "print(\"The Shape Of The Data Frame is (Rows,Columns) ---\",dframe.shape)\n",
    "#listing all the columns\n",
    "print(\"********************************************\")\n",
    "print(\"All the Columns ----\",dframe.columns.tolist())\n",
    "print(\"********************************************\")\n",
    "print (\"        DESCRIPTION OF THE DATA FRAME      \")\n",
    "print(dframe.describe())\n",
    "print(\" \\n\")\n",
    "print(\"*********************************************\")\n",
    "#Now we distribute the label i.e count the traffic as BENIGN or ANY ATTACKS\n",
    "print(\"    LABEL DISTRIBUTION    \")\n",
    "print(dframe['Label'].value_counts())  # We Have the column 'Label'\n",
    "print(\" \\n\")\n",
    "print(dframe['Label'].value_counts(normalize=True)*100)   #percentages of each label"
   ]
  },
  {
   "cell_type": "code",
   "execution_count": null,
   "id": "3df84b79-58bb-49dc-97a4-9860b4298406",
   "metadata": {},
   "outputs": [],
   "source": []
  }
 ],
 "metadata": {
  "kernelspec": {
   "display_name": "Python 3 (ipykernel)",
   "language": "python",
   "name": "python3"
  },
  "language_info": {
   "codemirror_mode": {
    "name": "ipython",
    "version": 3
   },
   "file_extension": ".py",
   "mimetype": "text/x-python",
   "name": "python",
   "nbconvert_exporter": "python",
   "pygments_lexer": "ipython3",
   "version": "3.13.2"
  }
 },
 "nbformat": 4,
 "nbformat_minor": 5
}
